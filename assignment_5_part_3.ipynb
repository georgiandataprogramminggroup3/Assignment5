{
 "cells": [
  {
   "cell_type": "code",
   "execution_count": 12,
   "metadata": {},
   "outputs": [
    {
     "name": "stdout",
     "output_type": "stream",
     "text": [
      "Database and table created\n",
      "(200416202, 'Sushant Nepal', 'BDAT1001')\n",
      "(200416204, 'Tien ', 'BDAT1003')\n",
      "(200416205, 'Luis Grisolia', 'BDAT1002')\n",
      "(200423349, 'Bikalpa Pantha', 'BDAT1001')\n",
      "('BDAT1001', 'Data Programming')\n",
      "('BDAT1002', 'Data Manipulation Techniques')\n",
      "('BDAT1003', 'Data Systems Architecture')\n"
     ]
    }
   ],
   "source": [
    "import sqlite3\n",
    "\n",
    "#create database\n",
    "conn = sqlite3.connect('Groups.sqlite')\n",
    "cur = conn.cursor()\n",
    "\n",
    "cur.execute('DROP TABLE IF EXISTS Students')\n",
    "cur.execute('DROP TABLE IF EXISTS Courses')\n",
    "\n",
    "#create table\n",
    "cur.execute('CREATE TABLE Courses (Id TEXT PRIMARY KEY, Title TEXT)')\n",
    "cur.execute('CREATE TABLE Students (Id INTEGER PRIMARY KEY, Name TEXT, Course_id TEXT, FOREIGN KEY(Course_id) REFERENCES Courses(Id))')\n",
    "\n",
    "\n",
    "# insert data into courses table, add 3 courses\n",
    "cur.execute('INSERT INTO Courses (Id, Title) VALUES(?,?)',('BDAT1001','Data Programming'))\n",
    "cur.execute('INSERT INTO Courses (Id, Title) VALUES(?,?)',('BDAT1002','Data Manipulation Techniques'))\n",
    "cur.execute('INSERT INTO Courses (Id, Title) VALUES(?,?)',('BDAT1003','Data Systems Architecture'))\n",
    "\n",
    "# insert data into students table, add 3 students \n",
    "cur.execute('INSERT INTO Students (Id, Name, Course_id) VALUES(?,?,?)',(200416202,'Sushant Nepal','BDAT1001'))\n",
    "cur.execute('INSERT INTO Students (Id, Name, Course_id) VALUES(?,?,?)',(200423349,'Bikalpa Pantha','BDAT1001'))\n",
    "cur.execute('INSERT INTO Students (Id, Name, Course_id) VALUES(?,?,?)',(200416204,'Tien ','BDAT1003'))\n",
    "cur.execute('INSERT INTO Students (Id, Name, Course_id) VALUES(?,?,?)',(200416205,'Luis Grisolia','BDAT1002'))\n",
    "\n",
    "# print statement\n",
    "print(\"Database and table created\")\n",
    "\n",
    "#view table\n",
    "view_student_table()\n",
    "\n",
    "conn.close()\n",
    "\n",
    "def view_student_table():\n",
    "    cur.execute('SELECT * FROM Students')\n",
    "    student_rows = cur.fetchall()\n",
    "    print_table(student_rows)\n",
    "    cur.execute('SELECT * FROM Courses')\n",
    "    course_rows = cur.fetchall()\n",
    "    print_table(course_rows)\n",
    "            \n",
    "def print_table(rows):\n",
    "    for row in rows:\n",
    "        print(row)\n",
    "\n"
   ]
  },
  {
   "cell_type": "code",
   "execution_count": null,
   "metadata": {},
   "outputs": [],
   "source": []
  }
 ],
 "metadata": {
  "kernelspec": {
   "display_name": "Python 3",
   "language": "python",
   "name": "python3"
  },
  "language_info": {
   "codemirror_mode": {
    "name": "ipython",
    "version": 3
   },
   "file_extension": ".py",
   "mimetype": "text/x-python",
   "name": "python",
   "nbconvert_exporter": "python",
   "pygments_lexer": "ipython3",
   "version": "3.7.3"
  }
 },
 "nbformat": 4,
 "nbformat_minor": 2
}
